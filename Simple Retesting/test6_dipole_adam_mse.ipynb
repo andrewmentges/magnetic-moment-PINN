{
 "cells": [
  {
   "cell_type": "code",
   "execution_count": 1,
   "metadata": {},
   "outputs": [
    {
     "name": "stdout",
     "output_type": "stream",
     "text": [
      "WARNING:tensorflow:From c:\\Users\\wrath\\source\\tensorflow\\venv-tf\\Lib\\site-packages\\keras\\src\\losses.py:2976: The name tf.losses.sparse_softmax_cross_entropy is deprecated. Please use tf.compat.v1.losses.sparse_softmax_cross_entropy instead.\n",
      "\n",
      "TensorFlow version: 2.15.0\n"
     ]
    }
   ],
   "source": [
    "import time\n",
    "import sys\n",
    "sys.path.append('../')\n",
    "from pinn_magnetic_experimental import MultiDipoleModel\n",
    "import smtf_utility as util"
   ]
  },
  {
   "cell_type": "code",
   "execution_count": 2,
   "metadata": {},
   "outputs": [],
   "source": [
    "def percentage(input, predicted):\n",
    "    adiff = abs(input-predicted)\n",
    "    delta = 0\n",
    "    if input > adiff:\n",
    "        delta = input - adiff\n",
    "    else:\n",
    "        delta = adiff + input\n",
    "    \n",
    "    return ((delta/input) * 100)"
   ]
  },
  {
   "cell_type": "code",
   "execution_count": 3,
   "metadata": {},
   "outputs": [],
   "source": [
    "sim = util.bf_simulator(distances=[1, 1.33, 1.66, 1.99], delta=30, scale=1e9)\n",
    "\n",
    "xpole = 0.001\n",
    "ypole = 0.0002\n",
    "zpole = -0.0006\n",
    "\n",
    "sim.add_dipole(0.0, 0, 0, xpole, 0, 0)\n",
    "sim.add_dipole(0.0, 0, 0, 0, ypole, 0)\n",
    "sim.add_dipole(0.0, 0, 0, 0, 0, zpole)"
   ]
  },
  {
   "cell_type": "code",
   "execution_count": 4,
   "metadata": {},
   "outputs": [],
   "source": [
    "positions, values = sim.get_data()\n",
    "positions, values = util.shuffle_data(positions, values)"
   ]
  },
  {
   "cell_type": "code",
   "execution_count": 5,
   "metadata": {},
   "outputs": [
    {
     "name": "stdout",
     "output_type": "stream",
     "text": [
      "WARNING:tensorflow:From c:\\Users\\wrath\\source\\tensorflow\\venv-tf\\Lib\\site-packages\\keras\\src\\backend.py:873: The name tf.get_default_graph is deprecated. Please use tf.compat.v1.get_default_graph instead.\n",
      "\n"
     ]
    }
   ],
   "source": [
    "model = MultiDipoleModel(poles=1, lrate=0.0005, optimizer='adam', loss='mse', scale=1e9, early_stop=False, target_stop=.0000000000002)\n",
    "test_epochs = 500"
   ]
  },
  {
   "cell_type": "code",
   "execution_count": 6,
   "metadata": {},
   "outputs": [
    {
     "name": "stdout",
     "output_type": "stream",
     "text": [
      "epoch  0 --- Loss --- 0.7584285\n",
      "epoch  1 --- Loss --- 0.17945631\n",
      "epoch  2 --- Loss --- 0.032176554\n",
      "epoch  3 --- Loss --- 0.0035146642\n",
      "epoch  4 --- Loss --- 0.00021788823\n",
      "epoch  5 --- Loss --- 6.9461603e-06\n",
      "epoch  6 --- Loss --- 9.199074e-08\n",
      "epoch  7 --- Loss --- 2.514697e-10\n",
      "epoch  8 --- Loss --- 9.37184e-13\n",
      "epoch  9 --- Loss --- 1.3168034e-14\n"
     ]
    }
   ],
   "source": [
    "start = time.time()\n",
    "model.fit(positions, values, epochs=test_epochs)\n",
    "end = time.time()"
   ]
  },
  {
   "cell_type": "code",
   "execution_count": 7,
   "metadata": {},
   "outputs": [
    {
     "name": "stdout",
     "output_type": "stream",
     "text": [
      "Total training time: 0.11395837863286336 minutes\n"
     ]
    }
   ],
   "source": [
    "ellapsed_minutes = ((end - start) / 60)\n",
    "print(\"Total training time: \" + str(ellapsed_minutes) + \" minutes\")"
   ]
  },
  {
   "cell_type": "code",
   "execution_count": 8,
   "metadata": {},
   "outputs": [
    {
     "data": {
      "image/png": "[encoded data removed]",
      "text/plain": [
       "<Figure size 640x480 with 1 Axes>"
      ]
     },
     "metadata": {},
     "output_type": "display_data"
    }
   ],
   "source": [
    "import matplotlib.pyplot as plt\n",
    "\n",
    "y_axis = model.loss_history\n",
    "x_axis = [*range(0, len(y_axis), 1)]\n",
    "\n",
    "plt.plot(x_axis, y_axis, 'r-')\n",
    "plt.yscale(\"log\")\n",
    "#plt.xscale(\"log\")\n",
    "plt.title('Magnetic Moment Fit')\n",
    "plt.xlabel(\"Epochs\")\n",
    "plt.ylabel(\"Loss\")\n",
    "plt.show()"
   ]
  },
  {
   "cell_type": "code",
   "execution_count": 9,
   "metadata": {},
   "outputs": [
    {
     "name": "stdout",
     "output_type": "stream",
     "text": [
      "Predicted\n",
      "[[ 0.001   0.0002 -0.0006]]\n",
      "Input\n",
      "[[0.001, 0.0002, -0.0006]]\n"
     ]
    }
   ],
   "source": [
    "print(\"Predicted\")\n",
    "print(model.dipole())\n",
    "print(\"Input\")\n",
    "print([[xpole, ypole, zpole]])"
   ]
  },
  {
   "cell_type": "code",
   "execution_count": 10,
   "metadata": {},
   "outputs": [
    {
     "name": "stdout",
     "output_type": "stream",
     "text": [
      "Percentage Accuracy X-axis 99.99999525025487\n",
      "Percentage Accuracy Y-axis 99.99999747378752\n",
      "Percentage Accuracy Z-axis 99.99998554897805\n",
      "********************************\n",
      "Average Accuracy:  99.99999275767347\n"
     ]
    }
   ],
   "source": [
    "est = model.dipole()\n",
    "\n",
    "#x_acc = ((xpole - abs(xpole - est[-1][0]))/xpole) * 100.0\n",
    "#y_acc = ((ypole - abs(ypole - est[-1][1]))/ypole) * 100.0\n",
    "#z_acc = ((zpole - abs(zpole - est[-1][2]))/zpole) * 100.0\n",
    "x_acc = percentage( xpole, est[-1][0])\n",
    "y_acc = percentage(ypole, est[-1][1])\n",
    "z_acc = percentage(zpole, est[-1][2])\n",
    "print(\"Percentage Accuracy X-axis\", x_acc)\n",
    "print(\"Percentage Accuracy Y-axis\", y_acc)\n",
    "print(\"Percentage Accuracy Z-axis\", z_acc)\n",
    "\n",
    "print(\"********************************\")\n",
    "overall_acc = (x_acc + y_acc + z_acc)/3\n",
    "print(\"Average Accuracy: \", overall_acc)\n",
    "\n"
   ]
  }
 ],
 "metadata": {
  "kernelspec": {
   "display_name": "venv-tf",
   "language": "python",
   "name": "python3"
  },
  "language_info": {
   "codemirror_mode": {
    "name": "ipython",
    "version": 3
   },
   "file_extension": ".py",
   "mimetype": "text/x-python",
   "name": "python",
   "nbconvert_exporter": "python",
   "pygments_lexer": "ipython3",
   "version": "3.11.9"
  }
 },
 "nbformat": 4,
 "nbformat_minor": 2
}
