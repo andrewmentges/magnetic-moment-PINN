{
 "cells": [
  {
   "cell_type": "code",
   "execution_count": 11,
   "metadata": {},
   "outputs": [],
   "source": [
    "import time\n",
    "import sys\n",
    "sys.path.append('../')\n",
    "from pinn_magnetic_experimental import MultiDipoleModel\n",
    "import smtf_utility as util"
   ]
  },
  {
   "cell_type": "code",
   "execution_count": 12,
   "metadata": {},
   "outputs": [],
   "source": [
    "def percentage(input, predicted):\n",
    "    adiff = abs(input-predicted)\n",
    "    delta = 0\n",
    "    if input > adiff:\n",
    "        delta = input - adiff\n",
    "    else:\n",
    "        delta = adiff + input\n",
    "    \n",
    "    return ((delta/input) * 100)"
   ]
  },
  {
   "cell_type": "code",
   "execution_count": 13,
   "metadata": {},
   "outputs": [],
   "source": [
    "sim = util.bf_simulator(distances=[1, 1.33, 1.66, 1.99], delta=30, scale=1e9)\n",
    "\n",
    "xpole = 10\n",
    "ypole = 20\n",
    "zpole = -60\n",
    "\n",
    "sim.add_dipole(0.0, 0, 0, xpole, 0, 0)\n",
    "sim.add_dipole(0.0, 0, 0, 0, ypole, 0)\n",
    "sim.add_dipole(0.0, 0, 0, 0, 0, zpole)"
   ]
  },
  {
   "cell_type": "code",
   "execution_count": 14,
   "metadata": {},
   "outputs": [],
   "source": [
    "positions, values = sim.get_data()\n",
    "positions, values = util.shuffle_data(positions, values)"
   ]
  },
  {
   "cell_type": "code",
   "execution_count": 15,
   "metadata": {},
   "outputs": [],
   "source": [
    "model = MultiDipoleModel(poles=1, lrate=0.5, optimizer='adam', loss='mse', scale=1e9, early_stop=False, target_stop=.00002)\n",
    "test_epochs = 500"
   ]
  },
  {
   "cell_type": "code",
   "execution_count": 16,
   "metadata": {},
   "outputs": [
    {
     "name": "stdout",
     "output_type": "stream",
     "text": [
      "epoch  0 --- Loss --- 3369992.2\n",
      "epoch  1 --- Loss --- 1590183.5\n",
      "epoch  2 --- Loss --- 778380.25\n",
      "epoch  3 --- Loss --- 353093.88\n",
      "epoch  4 --- Loss --- 143673.2\n",
      "epoch  5 --- Loss --- 52071.914\n",
      "epoch  6 --- Loss --- 16747.877\n",
      "epoch  7 --- Loss --- 4770.791\n",
      "epoch  8 --- Loss --- 1202.0912\n",
      "epoch  9 --- Loss --- 267.54453\n",
      "epoch  10 --- Loss --- 52.49137\n",
      "epoch  11 --- Loss --- 9.052415\n",
      "epoch  12 --- Loss --- 1.3672652\n",
      "epoch  13 --- Loss --- 0.18005551\n",
      "epoch  14 --- Loss --- 0.020588238\n",
      "epoch  15 --- Loss --- 0.0020408249\n",
      "epoch  16 --- Loss --- 0.00016973147\n",
      "epoch  17 --- Loss --- 1.2046014e-05\n"
     ]
    }
   ],
   "source": [
    "start = time.time()\n",
    "model.fit(positions, values, epochs=test_epochs)\n",
    "end = time.time()"
   ]
  },
  {
   "cell_type": "code",
   "execution_count": 17,
   "metadata": {},
   "outputs": [
    {
     "name": "stdout",
     "output_type": "stream",
     "text": [
      "Total training time: 0.21068705717722574 minutes\n"
     ]
    }
   ],
   "source": [
    "ellapsed_minutes = ((end - start) / 60)\n",
    "print(\"Total training time: \" + str(ellapsed_minutes) + \" minutes\")"
   ]
  },
  {
   "cell_type": "code",
   "execution_count": 18,
   "metadata": {},
   "outputs": [
    {
     "data": {
      "image/png": "[encoded data removed]",
      "text/plain": [
       "<Figure size 640x480 with 1 Axes>"
      ]
     },
     "metadata": {},
     "output_type": "display_data"
    }
   ],
   "source": [
    "import matplotlib.pyplot as plt\n",
    "\n",
    "y_axis = model.loss_history\n",
    "x_axis = [*range(0, len(y_axis), 1)]\n",
    "\n",
    "plt.plot(x_axis, y_axis, 'r-')\n",
    "plt.yscale(\"log\")\n",
    "#plt.xscale(\"log\")\n",
    "plt.title('Magnetic Moment Fit')\n",
    "plt.xlabel(\"Epochs\")\n",
    "plt.ylabel(\"Loss\")\n",
    "plt.show()"
   ]
  },
  {
   "cell_type": "code",
   "execution_count": 19,
   "metadata": {},
   "outputs": [
    {
     "name": "stdout",
     "output_type": "stream",
     "text": [
      "Predicted\n",
      "[[ 10.000001  20.       -59.99994 ]]\n",
      "Input\n",
      "[[10, 20, -60]]\n"
     ]
    }
   ],
   "source": [
    "print(\"Predicted\")\n",
    "print(model.dipole())\n",
    "print(\"Input\")\n",
    "print([[xpole, ypole, zpole]])"
   ]
  },
  {
   "cell_type": "code",
   "execution_count": 20,
   "metadata": {},
   "outputs": [
    {
     "name": "stdout",
     "output_type": "stream",
     "text": [
      "Percentage Accuracy X-axis 99.99999046325684\n",
      "Percentage Accuracy Y-axis 100.0\n",
      "Percentage Accuracy Z-axis 99.99989827473958\n",
      "********************************\n",
      "Average Accuracy:  99.99996291266547\n"
     ]
    }
   ],
   "source": [
    "est = model.dipole()\n",
    "\n",
    "#x_acc = ((xpole - abs(xpole - est[-1][0]))/xpole) * 100.0\n",
    "#y_acc = ((ypole - abs(ypole - est[-1][1]))/ypole) * 100.0\n",
    "#z_acc = ((zpole - abs(zpole - est[-1][2]))/zpole) * 100.0\n",
    "x_acc = percentage( xpole, est[-1][0])\n",
    "y_acc = percentage(ypole, est[-1][1])\n",
    "z_acc = percentage(zpole, est[-1][2])\n",
    "print(\"Percentage Accuracy X-axis\", x_acc)\n",
    "print(\"Percentage Accuracy Y-axis\", y_acc)\n",
    "print(\"Percentage Accuracy Z-axis\", z_acc)\n",
    "\n",
    "print(\"********************************\")\n",
    "overall_acc = (x_acc + y_acc + z_acc)/3\n",
    "print(\"Average Accuracy: \", overall_acc)\n",
    "\n"
   ]
  }
 ],
 "metadata": {
  "kernelspec": {
   "display_name": "venv-tf",
   "language": "python",
   "name": "python3"
  },
  "language_info": {
   "codemirror_mode": {
    "name": "ipython",
    "version": 3
   },
   "file_extension": ".py",
   "mimetype": "text/x-python",
   "name": "python",
   "nbconvert_exporter": "python",
   "pygments_lexer": "ipython3",
   "version": "3.11.9"
  }
 },
 "nbformat": 4,
 "nbformat_minor": 2
}
