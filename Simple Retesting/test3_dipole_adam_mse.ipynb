{
 "cells": [
  {
   "cell_type": "code",
   "execution_count": 37,
   "metadata": {},
   "outputs": [],
   "source": [
    "import time\n",
    "import sys\n",
    "sys.path.append('../')\n",
    "from pinn_magnetic_experimental import MultiDipoleModel\n",
    "import smtf_utility as util"
   ]
  },
  {
   "cell_type": "code",
   "execution_count": 38,
   "metadata": {},
   "outputs": [],
   "source": [
    "def percentage(input, predicted):\n",
    "    adiff = abs(input-predicted)\n",
    "    delta = 0\n",
    "    if input > adiff:\n",
    "        delta = input - adiff\n",
    "    else:\n",
    "        delta = adiff + input\n",
    "    \n",
    "    return ((delta/input) * 100)"
   ]
  },
  {
   "cell_type": "code",
   "execution_count": 39,
   "metadata": {},
   "outputs": [],
   "source": [
    "sim = util.bf_simulator(distances=[1, 1.33, 1.66, 1.99], delta=30, scale=1e9)\n",
    "\n",
    "xpole = 1\n",
    "ypole = 2\n",
    "zpole = -6\n",
    "\n",
    "sim.add_dipole(0.0, 0, 0, xpole, 0, 0)\n",
    "sim.add_dipole(0.0, 0, 0, 0, ypole, 0)\n",
    "sim.add_dipole(0.0, 0, 0, 0, 0, zpole)"
   ]
  },
  {
   "cell_type": "code",
   "execution_count": 40,
   "metadata": {},
   "outputs": [],
   "source": [
    "positions, values = sim.get_data()\n",
    "positions, values = util.shuffle_data(positions, values)"
   ]
  },
  {
   "cell_type": "code",
   "execution_count": 41,
   "metadata": {},
   "outputs": [],
   "source": [
    "model = MultiDipoleModel(poles=1, lrate=0.005, optimizer='adam', loss='mse', scale=1e9, early_stop=False, target_stop=.0000002)\n",
    "test_epochs = 500"
   ]
  },
  {
   "cell_type": "code",
   "execution_count": 42,
   "metadata": {},
   "outputs": [
    {
     "name": "stdout",
     "output_type": "stream",
     "text": [
      "epoch  0 --- Loss --- 48095.957\n",
      "epoch  1 --- Loss --- 44555.42\n",
      "epoch  2 --- Loss --- 41330.953\n",
      "epoch  3 --- Loss --- 38373.656\n",
      "epoch  4 --- Loss --- 35655.84\n",
      "epoch  5 --- Loss --- 33155.746\n",
      "epoch  6 --- Loss --- 30854.088\n",
      "epoch  7 --- Loss --- 28733.201\n",
      "epoch  8 --- Loss --- 26776.781\n",
      "epoch  9 --- Loss --- 24969.8\n",
      "epoch  10 --- Loss --- 23298.45\n",
      "epoch  11 --- Loss --- 21750.105\n",
      "epoch  12 --- Loss --- 20313.3\n",
      "epoch  13 --- Loss --- 18977.664\n",
      "epoch  14 --- Loss --- 17733.863\n",
      "epoch  15 --- Loss --- 16573.535\n",
      "epoch  16 --- Loss --- 15489.216\n",
      "epoch  17 --- Loss --- 14474.256\n",
      "epoch  18 --- Loss --- 13522.757\n",
      "epoch  19 --- Loss --- 12629.508\n",
      "epoch  20 --- Loss --- 11789.902\n",
      "epoch  21 --- Loss --- 10999.883\n",
      "epoch  22 --- Loss --- 10255.874\n",
      "epoch  23 --- Loss --- 9554.737\n",
      "epoch  24 --- Loss --- 8893.702\n",
      "epoch  25 --- Loss --- 8270.333\n",
      "epoch  26 --- Loss --- 7682.4634\n",
      "epoch  27 --- Loss --- 7128.178\n",
      "epoch  28 --- Loss --- 6605.7476\n",
      "epoch  29 --- Loss --- 6113.615\n",
      "epoch  30 --- Loss --- 5650.3535\n",
      "epoch  31 --- Loss --- 5214.6436\n",
      "epoch  32 --- Loss --- 4805.2534\n",
      "epoch  33 --- Loss --- 4421.023\n",
      "epoch  34 --- Loss --- 4060.8496\n",
      "epoch  35 --- Loss --- 3723.6755\n",
      "epoch  36 --- Loss --- 3408.4873\n",
      "epoch  37 --- Loss --- 3114.2866\n",
      "epoch  38 --- Loss --- 2840.1208\n",
      "epoch  39 --- Loss --- 2585.0461\n",
      "epoch  40 --- Loss --- 2348.1504\n",
      "epoch  41 --- Loss --- 2128.541\n",
      "epoch  42 --- Loss --- 1925.3373\n",
      "epoch  43 --- Loss --- 1737.6799\n",
      "epoch  44 --- Loss --- 1564.737\n",
      "epoch  45 --- Loss --- 1405.6945\n",
      "epoch  46 --- Loss --- 1259.7554\n",
      "epoch  47 --- Loss --- 1126.1416\n",
      "epoch  48 --- Loss --- 1004.10596\n",
      "epoch  49 --- Loss --- 892.915\n",
      "epoch  50 --- Loss --- 791.8624\n",
      "epoch  51 --- Loss --- 700.26166\n",
      "epoch  52 --- Loss --- 617.4563\n",
      "epoch  53 --- Loss --- 542.811\n",
      "epoch  54 --- Loss --- 475.71997\n",
      "epoch  55 --- Loss --- 415.59488\n",
      "epoch  56 --- Loss --- 361.88162\n",
      "epoch  57 --- Loss --- 314.04892\n",
      "epoch  58 --- Loss --- 271.59473\n",
      "epoch  59 --- Loss --- 234.0431\n",
      "epoch  60 --- Loss --- 200.9442\n",
      "epoch  61 --- Loss --- 171.8778\n",
      "epoch  62 --- Loss --- 146.44542\n",
      "epoch  63 --- Loss --- 124.27886\n",
      "epoch  64 --- Loss --- 105.03593\n",
      "epoch  65 --- Loss --- 88.39894\n",
      "epoch  66 --- Loss --- 74.075806\n",
      "epoch  67 --- Loss --- 61.79806\n",
      "epoch  68 --- Loss --- 51.320503\n",
      "epoch  69 --- Loss --- 42.419796\n",
      "epoch  70 --- Loss --- 34.894463\n",
      "epoch  71 --- Loss --- 28.562849\n",
      "epoch  72 --- Loss --- 23.262033\n",
      "epoch  73 --- Loss --- 18.846252\n",
      "epoch  74 --- Loss --- 15.187337\n",
      "epoch  75 --- Loss --- 12.172102\n",
      "epoch  76 --- Loss --- 9.7006235\n",
      "epoch  77 --- Loss --- 7.686494\n",
      "epoch  78 --- Loss --- 6.054699\n",
      "epoch  79 --- Loss --- 4.740387\n",
      "epoch  80 --- Loss --- 3.6884778\n",
      "epoch  81 --- Loss --- 2.851736\n",
      "epoch  82 --- Loss --- 2.1904309\n",
      "epoch  83 --- Loss --- 1.671176\n",
      "epoch  84 --- Loss --- 1.2662387\n",
      "epoch  85 --- Loss --- 0.95263463\n",
      "epoch  86 --- Loss --- 0.71158475\n",
      "epoch  87 --- Loss --- 0.52756643\n",
      "epoch  88 --- Loss --- 0.3881579\n",
      "epoch  89 --- Loss --- 0.28340882\n",
      "epoch  90 --- Loss --- 0.20524468\n",
      "epoch  91 --- Loss --- 0.14740539\n",
      "epoch  92 --- Loss --- 0.104990005\n",
      "epoch  93 --- Loss --- 0.07413898\n",
      "epoch  94 --- Loss --- 0.051879298\n",
      "epoch  95 --- Loss --- 0.035977006\n",
      "epoch  96 --- Loss --- 0.024717277\n",
      "epoch  97 --- Loss --- 0.016816111\n",
      "epoch  98 --- Loss --- 0.011335131\n",
      "epoch  99 --- Loss --- 0.007563404\n",
      "epoch  100 --- Loss --- 0.004995247\n",
      "epoch  101 --- Loss --- 0.0032633278\n",
      "epoch  102 --- Loss --- 0.0021063564\n",
      "epoch  103 --- Loss --- 0.001343169\n",
      "epoch  104 --- Loss --- 0.00084945135\n",
      "epoch  105 --- Loss --- 0.0005308546\n",
      "epoch  106 --- Loss --- 0.00032725866\n",
      "epoch  107 --- Loss --- 0.0001988411\n",
      "epoch  108 --- Loss --- 0.00011931011\n",
      "epoch  109 --- Loss --- 7.105795e-05\n",
      "epoch  110 --- Loss --- 4.1680778e-05\n",
      "epoch  111 --- Loss --- 2.398005e-05\n",
      "epoch  112 --- Loss --- 1.3731398e-05\n",
      "epoch  113 --- Loss --- 8.075997e-06\n",
      "epoch  114 --- Loss --- 4.3841856e-06\n",
      "epoch  115 --- Loss --- 1.9898428e-06\n",
      "epoch  116 --- Loss --- 1.1705433e-06\n",
      "epoch  117 --- Loss --- 9.35865e-07\n",
      "epoch  118 --- Loss --- 7.961168e-07\n",
      "epoch  119 --- Loss --- 6.837023e-07\n",
      "epoch  120 --- Loss --- 6.657117e-07\n",
      "epoch  121 --- Loss --- 6.042739e-07\n",
      "epoch  122 --- Loss --- 5.551725e-07\n",
      "epoch  123 --- Loss --- 5.181499e-07\n",
      "epoch  124 --- Loss --- 4.6808182e-07\n",
      "epoch  125 --- Loss --- 4.415674e-07\n",
      "epoch  126 --- Loss --- 4.2154923e-07\n",
      "epoch  127 --- Loss --- 4.1901438e-07\n",
      "epoch  128 --- Loss --- 3.9774068e-07\n",
      "epoch  129 --- Loss --- 3.8807093e-07\n",
      "epoch  130 --- Loss --- 3.4624924e-07\n",
      "epoch  131 --- Loss --- 3.2513157e-07\n",
      "epoch  132 --- Loss --- 3.2397878e-07\n",
      "epoch  133 --- Loss --- 3.177613e-07\n",
      "epoch  134 --- Loss --- 3.0019956e-07\n",
      "epoch  135 --- Loss --- 2.9350971e-07\n",
      "epoch  136 --- Loss --- 2.5802365e-07\n",
      "epoch  137 --- Loss --- 2.5607733e-07\n",
      "epoch  138 --- Loss --- 2.372221e-07\n",
      "epoch  139 --- Loss --- 2.2048619e-07\n",
      "epoch  140 --- Loss --- 2.1891984e-07\n",
      "epoch  141 --- Loss --- 2.04941e-07\n",
      "epoch  142 --- Loss --- 2.0435883e-07\n",
      "epoch  143 --- Loss --- 1.972878e-07\n"
     ]
    }
   ],
   "source": [
    "start = time.time()\n",
    "model.fit(positions, values, epochs=test_epochs)\n",
    "end = time.time()"
   ]
  },
  {
   "cell_type": "code",
   "execution_count": 43,
   "metadata": {},
   "outputs": [
    {
     "name": "stdout",
     "output_type": "stream",
     "text": [
      "Total training time: 1.7001155296961465 minutes\n"
     ]
    }
   ],
   "source": [
    "ellapsed_minutes = ((end - start) / 60)\n",
    "print(\"Total training time: \" + str(ellapsed_minutes) + \" minutes\")"
   ]
  },
  {
   "cell_type": "code",
   "execution_count": 44,
   "metadata": {},
   "outputs": [
    {
     "data": {
      "image/png": "[encoded data removed]",
      "text/plain": [
       "<Figure size 640x480 with 1 Axes>"
      ]
     },
     "metadata": {},
     "output_type": "display_data"
    }
   ],
   "source": [
    "import matplotlib.pyplot as plt\n",
    "\n",
    "y_axis = model.loss_history\n",
    "x_axis = [*range(0, len(y_axis), 1)]\n",
    "\n",
    "plt.plot(x_axis, y_axis, 'r-')\n",
    "plt.yscale(\"log\")\n",
    "#plt.xscale(\"log\")\n",
    "plt.title('Magnetic Moment Fit')\n",
    "plt.xlabel(\"Epochs\")\n",
    "plt.ylabel(\"Loss\")\n",
    "plt.show()"
   ]
  },
  {
   "cell_type": "code",
   "execution_count": 45,
   "metadata": {},
   "outputs": [
    {
     "name": "stdout",
     "output_type": "stream",
     "text": [
      "Predicted\n",
      "[[ 0.99999994  1.9999994  -5.999987  ]]\n",
      "Input\n",
      "[[1, 2, -6]]\n"
     ]
    }
   ],
   "source": [
    "print(\"Predicted\")\n",
    "print(model.dipole())\n",
    "print(\"Input\")\n",
    "print([[xpole, ypole, zpole]])"
   ]
  },
  {
   "cell_type": "code",
   "execution_count": 46,
   "metadata": {},
   "outputs": [
    {
     "name": "stdout",
     "output_type": "stream",
     "text": [
      "Percentage Accuracy X-axis 99.99999403953552\n",
      "Percentage Accuracy Y-axis 99.99997019767761\n",
      "Percentage Accuracy Z-axis 99.99978542327881\n",
      "********************************\n",
      "Average Accuracy:  99.99991655349731\n"
     ]
    }
   ],
   "source": [
    "est = model.dipole()\n",
    "\n",
    "#x_acc = ((xpole - abs(xpole - est[-1][0]))/xpole) * 100.0\n",
    "#y_acc = ((ypole - abs(ypole - est[-1][1]))/ypole) * 100.0\n",
    "#z_acc = ((zpole - abs(zpole - est[-1][2]))/zpole) * 100.0\n",
    "x_acc = percentage( xpole, est[-1][0])\n",
    "y_acc = percentage(ypole, est[-1][1])\n",
    "z_acc = percentage(zpole, est[-1][2])\n",
    "print(\"Percentage Accuracy X-axis\", x_acc)\n",
    "print(\"Percentage Accuracy Y-axis\", y_acc)\n",
    "print(\"Percentage Accuracy Z-axis\", z_acc)\n",
    "\n",
    "print(\"********************************\")\n",
    "overall_acc = (x_acc + y_acc + z_acc)/3\n",
    "print(\"Average Accuracy: \", overall_acc)\n",
    "\n"
   ]
  }
 ],
 "metadata": {
  "kernelspec": {
   "display_name": "venv-tf",
   "language": "python",
   "name": "python3"
  },
  "language_info": {
   "codemirror_mode": {
    "name": "ipython",
    "version": 3
   },
   "file_extension": ".py",
   "mimetype": "text/x-python",
   "name": "python",
   "nbconvert_exporter": "python",
   "pygments_lexer": "ipython3",
   "version": "3.11.9"
  }
 },
 "nbformat": 4,
 "nbformat_minor": 2
}
