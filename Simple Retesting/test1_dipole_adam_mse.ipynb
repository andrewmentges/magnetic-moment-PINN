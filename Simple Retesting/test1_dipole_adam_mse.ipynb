{
 "cells": [
  {
   "cell_type": "code",
   "execution_count": 229,
   "metadata": {},
   "outputs": [],
   "source": [
    "import time\n",
    "import sys\n",
    "sys.path.append('../')\n",
    "from pinn_magnetic_experimental import MultiDipoleModel\n",
    "import smtf_utility as util"
   ]
  },
  {
   "cell_type": "code",
   "execution_count": 230,
   "metadata": {},
   "outputs": [],
   "source": [
    "def percentage(input, predicted):\n",
    "    adiff = abs(input-predicted)\n",
    "    delta = 0\n",
    "    if input > adiff:\n",
    "        delta = input - adiff\n",
    "    else:\n",
    "        delta = adiff + input\n",
    "    \n",
    "    return ((delta/input) * 100)"
   ]
  },
  {
   "cell_type": "code",
   "execution_count": 231,
   "metadata": {},
   "outputs": [],
   "source": [
    "sim = util.bf_simulator(distances=[1, 1.33, 1.66, 1.99], delta=30, scale=1e9)\n",
    "\n",
    "xpole = 100\n",
    "ypole = 200\n",
    "zpole = -600\n",
    "\n",
    "sim.add_dipole(0.0, 0, 0, xpole, 0, 0)\n",
    "sim.add_dipole(0.0, 0, 0, 0, ypole, 0)\n",
    "sim.add_dipole(0.0, 0, 0, 0, 0, zpole)"
   ]
  },
  {
   "cell_type": "code",
   "execution_count": 232,
   "metadata": {},
   "outputs": [],
   "source": [
    "positions, values = sim.get_data()\n",
    "positions, values = util.shuffle_data(positions, values)"
   ]
  },
  {
   "cell_type": "code",
   "execution_count": 233,
   "metadata": {},
   "outputs": [],
   "source": [
    "model = MultiDipoleModel(poles=1, lrate=0.5, optimizer='adam', loss='mse', scale=1e9, early_stop=False, target_stop=.0002)\n",
    "test_epochs = 500"
   ]
  },
  {
   "cell_type": "code",
   "execution_count": 234,
   "metadata": {},
   "outputs": [
    {
     "name": "stdout",
     "output_type": "stream",
     "text": [
      "epoch  0 --- Loss --- 483434000.0\n",
      "epoch  1 --- Loss --- 449840260.0\n",
      "epoch  2 --- Loss --- 418183520.0\n",
      "epoch  3 --- Loss --- 388681000.0\n",
      "epoch  4 --- Loss --- 361340300.0\n",
      "epoch  5 --- Loss --- 336057150.0\n",
      "epoch  6 --- Loss --- 312696640.0\n",
      "epoch  7 --- Loss --- 291116100.0\n",
      "epoch  8 --- Loss --- 271173950.0\n",
      "epoch  9 --- Loss --- 252733980.0\n",
      "epoch  10 --- Loss --- 235667340.0\n",
      "epoch  11 --- Loss --- 219853840.0\n",
      "epoch  12 --- Loss --- 205182270.0\n",
      "epoch  13 --- Loss --- 191550690.0\n",
      "epoch  14 --- Loss --- 178866140.0\n",
      "epoch  15 --- Loss --- 167044580.0\n",
      "epoch  16 --- Loss --- 156009980.0\n",
      "epoch  17 --- Loss --- 145694320.0\n",
      "epoch  18 --- Loss --- 136036660.0\n",
      "epoch  19 --- Loss --- 126982590.0\n",
      "epoch  20 --- Loss --- 118483890.0\n",
      "epoch  21 --- Loss --- 110497816.0\n",
      "epoch  22 --- Loss --- 102986270.0\n",
      "epoch  23 --- Loss --- 95915890.0\n",
      "epoch  24 --- Loss --- 89257180.0\n",
      "epoch  25 --- Loss --- 82983950.0\n",
      "epoch  26 --- Loss --- 77073100.0\n",
      "epoch  27 --- Loss --- 71503944.0\n",
      "epoch  28 --- Loss --- 66258084.0\n",
      "epoch  29 --- Loss --- 61318916.0\n",
      "epoch  30 --- Loss --- 56671390.0\n",
      "epoch  31 --- Loss --- 52301596.0\n",
      "epoch  32 --- Loss --- 48196724.0\n",
      "epoch  33 --- Loss --- 44344764.0\n",
      "epoch  34 --- Loss --- 40734376.0\n",
      "epoch  35 --- Loss --- 37354776.0\n",
      "epoch  36 --- Loss --- 34195572.0\n",
      "epoch  37 --- Loss --- 31246760.0\n",
      "epoch  38 --- Loss --- 28498596.0\n",
      "epoch  39 --- Loss --- 25941620.0\n",
      "epoch  40 --- Loss --- 23566724.0\n",
      "epoch  41 --- Loss --- 21364878.0\n",
      "epoch  42 --- Loss --- 19327336.0\n",
      "epoch  43 --- Loss --- 17445536.0\n",
      "epoch  44 --- Loss --- 15711085.0\n",
      "epoch  45 --- Loss --- 14115823.0\n",
      "epoch  46 --- Loss --- 12651812.0\n",
      "epoch  47 --- Loss --- 11311329.0\n",
      "epoch  48 --- Loss --- 10086823.0\n",
      "epoch  49 --- Loss --- 8970993.0\n",
      "epoch  50 --- Loss --- 7956784.5\n",
      "epoch  51 --- Loss --- 7037322.0\n",
      "epoch  52 --- Loss --- 6206029.5\n",
      "epoch  53 --- Loss --- 5456573.0\n",
      "epoch  54 --- Loss --- 4782823.5\n",
      "epoch  55 --- Loss --- 4178969.0\n",
      "epoch  56 --- Loss --- 3639416.0\n",
      "epoch  57 --- Loss --- 3158850.0\n",
      "epoch  58 --- Loss --- 2732266.8\n",
      "epoch  59 --- Loss --- 2354880.0\n",
      "epoch  60 --- Loss --- 2022203.0\n",
      "epoch  61 --- Loss --- 1729983.0\n",
      "epoch  62 --- Loss --- 1474253.0\n",
      "epoch  63 --- Loss --- 1251323.1\n",
      "epoch  64 --- Loss --- 1057769.9\n",
      "epoch  65 --- Loss --- 890385.75\n",
      "epoch  66 --- Loss --- 746262.06\n",
      "epoch  67 --- Loss --- 622692.56\n",
      "epoch  68 --- Loss --- 517216.88\n",
      "epoch  69 --- Loss --- 427594.6\n",
      "epoch  70 --- Loss --- 351809.47\n",
      "epoch  71 --- Loss --- 288029.3\n",
      "epoch  72 --- Loss --- 234620.1\n",
      "epoch  73 --- Loss --- 190127.47\n",
      "epoch  74 --- Loss --- 153249.52\n",
      "epoch  75 --- Loss --- 122847.78\n",
      "epoch  76 --- Loss --- 97925.46\n",
      "epoch  77 --- Loss --- 77609.0\n",
      "epoch  78 --- Loss --- 61145.28\n",
      "epoch  79 --- Loss --- 47885.21\n",
      "epoch  80 --- Loss --- 37267.305\n",
      "epoch  81 --- Loss --- 28819.697\n",
      "epoch  82 --- Loss --- 22140.941\n",
      "epoch  83 --- Loss --- 16897.543\n",
      "epoch  84 --- Loss --- 12806.522\n",
      "epoch  85 --- Loss --- 9636.265\n",
      "epoch  86 --- Loss --- 7199.9937\n",
      "epoch  87 --- Loss --- 5339.8896\n",
      "epoch  88 --- Loss --- 3929.91\n",
      "epoch  89 --- Loss --- 2869.9448\n",
      "epoch  90 --- Loss --- 2078.7346\n",
      "epoch  91 --- Loss --- 1493.852\n",
      "epoch  92 --- Loss --- 1064.6436\n",
      "epoch  93 --- Loss --- 752.30005\n",
      "epoch  94 --- Loss --- 526.9121\n",
      "epoch  95 --- Loss --- 365.3865\n",
      "epoch  96 --- Loss --- 251.0338\n",
      "epoch  97 --- Loss --- 170.83304\n",
      "epoch  98 --- Loss --- 115.09316\n",
      "epoch  99 --- Loss --- 76.84259\n",
      "epoch  100 --- Loss --- 50.82424\n",
      "epoch  101 --- Loss --- 33.214733\n",
      "epoch  102 --- Loss --- 21.467245\n",
      "epoch  103 --- Loss --- 13.765125\n",
      "epoch  104 --- Loss --- 8.700112\n",
      "epoch  105 --- Loss --- 5.4316945\n",
      "epoch  106 --- Loss --- 3.3471181\n",
      "epoch  107 --- Loss --- 2.0507655\n",
      "epoch  108 --- Loss --- 1.226478\n",
      "epoch  109 --- Loss --- 0.72580504\n",
      "epoch  110 --- Loss --- 0.4234869\n",
      "epoch  111 --- Loss --- 0.2483808\n",
      "epoch  112 --- Loss --- 0.14496766\n",
      "epoch  113 --- Loss --- 0.07800255\n",
      "epoch  114 --- Loss --- 0.037433762\n",
      "epoch  115 --- Loss --- 0.020800008\n",
      "epoch  116 --- Loss --- 0.014553278\n",
      "epoch  117 --- Loss --- 0.012300459\n",
      "epoch  118 --- Loss --- 0.011096938\n",
      "epoch  119 --- Loss --- 0.010485845\n",
      "epoch  120 --- Loss --- 0.009933821\n",
      "epoch  121 --- Loss --- 0.009425955\n",
      "epoch  122 --- Loss --- 0.008796109\n",
      "epoch  123 --- Loss --- 0.008224345\n",
      "epoch  124 --- Loss --- 0.00789195\n",
      "epoch  125 --- Loss --- 0.007490175\n",
      "epoch  126 --- Loss --- 0.0071779788\n",
      "epoch  127 --- Loss --- 0.006952988\n",
      "epoch  128 --- Loss --- 0.0066330614\n",
      "epoch  129 --- Loss --- 0.00623249\n",
      "epoch  130 --- Loss --- 0.0059268936\n",
      "epoch  131 --- Loss --- 0.005649841\n",
      "epoch  132 --- Loss --- 0.0052816495\n",
      "epoch  133 --- Loss --- 0.0049972245\n",
      "epoch  134 --- Loss --- 0.0047418154\n",
      "epoch  135 --- Loss --- 0.0044936747\n",
      "epoch  136 --- Loss --- 0.0042959824\n",
      "epoch  137 --- Loss --- 0.004065455\n",
      "epoch  138 --- Loss --- 0.0037721207\n",
      "epoch  139 --- Loss --- 0.003523533\n",
      "epoch  140 --- Loss --- 0.0033120292\n",
      "epoch  141 --- Loss --- 0.0031922073\n",
      "epoch  142 --- Loss --- 0.0030489706\n",
      "epoch  143 --- Loss --- 0.0029272272\n",
      "epoch  144 --- Loss --- 0.0028248874\n",
      "epoch  145 --- Loss --- 0.0026121552\n",
      "epoch  146 --- Loss --- 0.002499158\n",
      "epoch  147 --- Loss --- 0.0024217647\n",
      "epoch  148 --- Loss --- 0.0023080755\n",
      "epoch  149 --- Loss --- 0.002121205\n",
      "epoch  150 --- Loss --- 0.0020193208\n",
      "epoch  151 --- Loss --- 0.0019061514\n",
      "epoch  152 --- Loss --- 0.0018112608\n",
      "epoch  153 --- Loss --- 0.0018112608\n",
      "epoch  154 --- Loss --- 0.0017487323\n",
      "epoch  155 --- Loss --- 0.0015961451\n",
      "epoch  156 --- Loss --- 0.0015097505\n",
      "epoch  157 --- Loss --- 0.0015089371\n",
      "epoch  158 --- Loss --- 0.0014057814\n",
      "epoch  159 --- Loss --- 0.0013242952\n",
      "epoch  160 --- Loss --- 0.0012606805\n",
      "epoch  161 --- Loss --- 0.0012190003\n",
      "epoch  162 --- Loss --- 0.0011318054\n",
      "epoch  163 --- Loss --- 0.0010586506\n",
      "epoch  164 --- Loss --- 0.0010586506\n",
      "epoch  165 --- Loss --- 0.0009992181\n",
      "epoch  166 --- Loss --- 0.00096270035\n",
      "epoch  167 --- Loss --- 0.00091033115\n",
      "epoch  168 --- Loss --- 0.0008067682\n",
      "epoch  169 --- Loss --- 0.00074560056\n",
      "epoch  170 --- Loss --- 0.00074560056\n",
      "epoch  171 --- Loss --- 0.00074560056\n",
      "epoch  172 --- Loss --- 0.0006775983\n",
      "epoch  173 --- Loss --- 0.00062257657\n",
      "epoch  174 --- Loss --- 0.00062257657\n",
      "epoch  175 --- Loss --- 0.00062257657\n",
      "epoch  176 --- Loss --- 0.0005865787\n",
      "epoch  177 --- Loss --- 0.0005597731\n",
      "epoch  178 --- Loss --- 0.0004973306\n",
      "epoch  179 --- Loss --- 0.0004482396\n",
      "epoch  180 --- Loss --- 0.0004482396\n",
      "epoch  181 --- Loss --- 0.0004482396\n",
      "epoch  182 --- Loss --- 0.0004482396\n",
      "epoch  183 --- Loss --- 0.00039660875\n",
      "epoch  184 --- Loss --- 0.00035441483\n",
      "epoch  185 --- Loss --- 0.00035455773\n",
      "epoch  186 --- Loss --- 0.000354529\n",
      "epoch  187 --- Loss --- 0.00035441483\n",
      "epoch  188 --- Loss --- 0.0003074677\n",
      "epoch  189 --- Loss --- 0.0002700364\n",
      "epoch  190 --- Loss --- 0.00027046926\n",
      "epoch  191 --- Loss --- 0.00027081728\n",
      "epoch  192 --- Loss --- 0.00027027505\n",
      "epoch  193 --- Loss --- 0.00026974833\n",
      "epoch  194 --- Loss --- 0.00024229304\n",
      "epoch  195 --- Loss --- 0.00022416846\n",
      "epoch  196 --- Loss --- 0.00022387489\n",
      "epoch  197 --- Loss --- 0.00019930609\n"
     ]
    }
   ],
   "source": [
    "start = time.time()\n",
    "model.fit(positions, values, epochs=test_epochs)\n",
    "end = time.time()"
   ]
  },
  {
   "cell_type": "code",
   "execution_count": 235,
   "metadata": {},
   "outputs": [
    {
     "name": "stdout",
     "output_type": "stream",
     "text": [
      "Total training time: 2.360508942604065 minutes\n"
     ]
    }
   ],
   "source": [
    "ellapsed_minutes = ((end - start) / 60)\n",
    "print(\"Total training time: \" + str(ellapsed_minutes) + \" minutes\")"
   ]
  },
  {
   "cell_type": "code",
   "execution_count": 236,
   "metadata": {},
   "outputs": [
    {
     "data": {
      "image/png": "[encoded data removed]",
      "text/plain": [
       "<Figure size 640x480 with 1 Axes>"
      ]
     },
     "metadata": {},
     "output_type": "display_data"
    }
   ],
   "source": [
    "import matplotlib.pyplot as plt\n",
    "\n",
    "y_axis = model.loss_history\n",
    "x_axis = [*range(0, len(y_axis), 1)]\n",
    "\n",
    "plt.plot(x_axis, y_axis, 'r-')\n",
    "plt.yscale(\"log\")\n",
    "#plt.xscale(\"log\")\n",
    "plt.title('Magnetic Moment Fit')\n",
    "plt.xlabel(\"Epochs\")\n",
    "plt.ylabel(\"Loss\")\n",
    "plt.show()"
   ]
  },
  {
   "cell_type": "code",
   "execution_count": 237,
   "metadata": {},
   "outputs": [
    {
     "name": "stdout",
     "output_type": "stream",
     "text": [
      "Predicted\n",
      "[[  99.99999  199.99998 -599.9996 ]]\n",
      "Input\n",
      "[[100, 200, -600]]\n"
     ]
    }
   ],
   "source": [
    "print(\"Predicted\")\n",
    "print(model.dipole())\n",
    "print(\"Input\")\n",
    "print([[xpole, ypole, zpole]])"
   ]
  },
  {
   "cell_type": "code",
   "execution_count": 238,
   "metadata": {},
   "outputs": [
    {
     "name": "stdout",
     "output_type": "stream",
     "text": [
      "Percentage Accuracy X-axis 99.99999237060547\n",
      "Percentage Accuracy Y-axis 99.99999237060547\n",
      "Percentage Accuracy Z-axis 99.9999287923177\n",
      "********************************\n",
      "Average Accuracy:  99.99997117784288\n"
     ]
    }
   ],
   "source": [
    "est = model.dipole()\n",
    "\n",
    "#x_acc = ((xpole - abs(xpole - est[-1][0]))/xpole) * 100.0\n",
    "#y_acc = ((ypole - abs(ypole - est[-1][1]))/ypole) * 100.0\n",
    "#z_acc = ((zpole - abs(zpole - est[-1][2]))/zpole) * 100.0\n",
    "x_acc = percentage( xpole, est[-1][0])\n",
    "y_acc = percentage(ypole, est[-1][1])\n",
    "z_acc = percentage(zpole, est[-1][2])\n",
    "print(\"Percentage Accuracy X-axis\", x_acc)\n",
    "print(\"Percentage Accuracy Y-axis\", y_acc)\n",
    "print(\"Percentage Accuracy Z-axis\", z_acc)\n",
    "\n",
    "print(\"********************************\")\n",
    "overall_acc = (x_acc + y_acc + z_acc)/3\n",
    "print(\"Average Accuracy: \", overall_acc)\n",
    "\n"
   ]
  }
 ],
 "metadata": {
  "kernelspec": {
   "display_name": "venv-tf",
   "language": "python",
   "name": "python3"
  },
  "language_info": {
   "codemirror_mode": {
    "name": "ipython",
    "version": 3
   },
   "file_extension": ".py",
   "mimetype": "text/x-python",
   "name": "python",
   "nbconvert_exporter": "python",
   "pygments_lexer": "ipython3",
   "version": "3.11.9"
  }
 },
 "nbformat": 4,
 "nbformat_minor": 2
}
