{
 "cells": [
  {
   "cell_type": "code",
   "execution_count": 1,
   "metadata": {},
   "outputs": [
    {
     "name": "stdout",
     "output_type": "stream",
     "text": [
      "WARNING:tensorflow:From c:\\Users\\wrath\\source\\tensorflow\\venv-tf\\Lib\\site-packages\\keras\\src\\losses.py:2976: The name tf.losses.sparse_softmax_cross_entropy is deprecated. Please use tf.compat.v1.losses.sparse_softmax_cross_entropy instead.\n",
      "\n",
      "TensorFlow version: 2.15.0\n"
     ]
    }
   ],
   "source": [
    "import smtf_utility as util\n",
    "from pinn_magnetic_experimental import DipoleModel\n"
   ]
  },
  {
   "cell_type": "code",
   "execution_count": 14,
   "metadata": {},
   "outputs": [],
   "source": [
    "p, v, old_calc = util.parse_mtf(fname=\"tests\\ATMS\\Test 5.mtf\", scaled=True)\n",
    "\n",
    "positions, values = util.shuffle_data(p, v)"
   ]
  },
  {
   "cell_type": "code",
   "execution_count": 15,
   "metadata": {},
   "outputs": [],
   "source": [
    "reg_model = DipoleModel()"
   ]
  },
  {
   "cell_type": "code",
   "execution_count": 16,
   "metadata": {},
   "outputs": [
    {
     "name": "stdout",
     "output_type": "stream",
     "text": [
      "epoch  0 --- Loss --- 2.1865844e-06\n",
      "epoch  1 --- Loss --- 2.1381845e-06\n",
      "epoch  2 --- Loss --- 2.0916289e-06\n",
      "epoch  3 --- Loss --- 2.0468426e-06\n",
      "epoch  4 --- Loss --- 2.0037553e-06\n",
      "epoch  5 --- Loss --- 1.962299e-06\n",
      "epoch  6 --- Loss --- 1.9224087e-06\n",
      "epoch  7 --- Loss --- 1.8840225e-06\n",
      "epoch  8 --- Loss --- 1.8470813e-06\n",
      "epoch  9 --- Loss --- 1.8115279e-06\n",
      "epoch  10 --- Loss --- 1.7773084e-06\n",
      "epoch  11 --- Loss --- 1.7443707e-06\n",
      "epoch  12 --- Loss --- 1.7126648e-06\n",
      "epoch  13 --- Loss --- 1.6821434e-06\n",
      "epoch  14 --- Loss --- 1.6527605e-06\n",
      "epoch  15 --- Loss --- 1.6244722e-06\n",
      "epoch  16 --- Loss --- 1.5972367e-06\n",
      "epoch  17 --- Loss --- 1.5710139e-06\n",
      "epoch  18 --- Loss --- 1.5457645e-06\n",
      "epoch  19 --- Loss --- 1.5214518e-06\n",
      "epoch  20 --- Loss --- 1.4980401e-06\n",
      "epoch  21 --- Loss --- 1.4754953e-06\n",
      "epoch  22 --- Loss --- 1.4537845e-06\n",
      "epoch  23 --- Loss --- 1.4328762e-06\n",
      "epoch  24 --- Loss --- 1.4127404e-06\n",
      "epoch  25 --- Loss --- 1.3933479e-06\n",
      "epoch  26 --- Loss --- 1.3746705e-06\n",
      "epoch  27 --- Loss --- 1.3566814e-06\n",
      "epoch  28 --- Loss --- 1.3393552e-06\n",
      "epoch  29 --- Loss --- 1.3226669e-06\n",
      "epoch  30 --- Loss --- 1.3065926e-06\n",
      "epoch  31 --- Loss --- 1.2911095e-06\n",
      "epoch  32 --- Loss --- 1.2761956e-06\n",
      "epoch  33 --- Loss --- 1.2618295e-06\n",
      "epoch  34 --- Loss --- 1.247991e-06\n",
      "epoch  35 --- Loss --- 1.2346604e-06\n",
      "epoch  36 --- Loss --- 1.2218192e-06\n",
      "epoch  37 --- Loss --- 1.2094489e-06\n",
      "epoch  38 --- Loss --- 1.197532e-06\n",
      "epoch  39 --- Loss --- 1.1860521e-06\n",
      "epoch  40 --- Loss --- 1.174993e-06\n",
      "epoch  41 --- Loss --- 1.1643391e-06\n",
      "epoch  42 --- Loss --- 1.1540754e-06\n",
      "epoch  43 --- Loss --- 1.1441873e-06\n",
      "epoch  44 --- Loss --- 1.1346613e-06\n",
      "epoch  45 --- Loss --- 1.1254839e-06\n",
      "epoch  46 --- Loss --- 1.1166421e-06\n",
      "epoch  47 --- Loss --- 1.1081239e-06\n",
      "epoch  48 --- Loss --- 1.0999171e-06\n",
      "epoch  49 --- Loss --- 1.0920105e-06\n",
      "epoch  50 --- Loss --- 1.0843929e-06\n",
      "epoch  51 --- Loss --- 1.0770539e-06\n",
      "epoch  52 --- Loss --- 1.0699829e-06\n",
      "epoch  53 --- Loss --- 1.0631703e-06\n",
      "epoch  54 --- Loss --- 1.0566066e-06\n",
      "epoch  55 --- Loss --- 1.0502827e-06\n",
      "epoch  56 --- Loss --- 1.0441896e-06\n",
      "epoch  57 --- Loss --- 1.0383193e-06\n",
      "epoch  58 --- Loss --- 1.0326632e-06\n",
      "epoch  59 --- Loss --- 1.0272137e-06\n",
      "epoch  60 --- Loss --- 1.0219632e-06\n",
      "epoch  61 --- Loss --- 1.0169042e-06\n",
      "epoch  62 --- Loss --- 1.01203e-06\n",
      "epoch  63 --- Loss --- 1.0073338e-06\n",
      "epoch  64 --- Loss --- 1.0028091e-06\n",
      "epoch  65 --- Loss --- 9.984491e-07\n",
      "epoch  66 --- Loss --- 9.942485e-07\n",
      "epoch  67 --- Loss --- 9.902011e-07\n",
      "epoch  68 --- Loss --- 9.863013e-07\n",
      "epoch  69 --- Loss --- 9.825438e-07\n",
      "epoch  70 --- Loss --- 9.789235e-07\n",
      "epoch  71 --- Loss --- 9.754352e-07\n",
      "epoch  72 --- Loss --- 9.720743e-07\n",
      "epoch  73 --- Loss --- 9.688358e-07\n",
      "epoch  74 --- Loss --- 9.657155e-07\n",
      "epoch  75 --- Loss --- 9.627089e-07\n",
      "epoch  76 --- Loss --- 9.598117e-07\n",
      "epoch  77 --- Loss --- 9.570203e-07\n",
      "epoch  78 --- Loss --- 9.54331e-07\n",
      "epoch  79 --- Loss --- 9.517395e-07\n",
      "epoch  80 --- Loss --- 9.492426e-07\n",
      "epoch  81 --- Loss --- 9.4683656e-07\n",
      "epoch  82 --- Loss --- 9.445185e-07\n",
      "epoch  83 --- Loss --- 9.422849e-07\n",
      "epoch  84 --- Loss --- 9.401327e-07\n",
      "epoch  85 --- Loss --- 9.38059e-07\n",
      "epoch  86 --- Loss --- 9.360609e-07\n",
      "epoch  87 --- Loss --- 9.341357e-07\n",
      "epoch  88 --- Loss --- 9.3228067e-07\n",
      "epoch  89 --- Loss --- 9.304933e-07\n",
      "epoch  90 --- Loss --- 9.2877104e-07\n",
      "epoch  91 --- Loss --- 9.2711156e-07\n",
      "epoch  92 --- Loss --- 9.2551267e-07\n",
      "epoch  93 --- Loss --- 9.23972e-07\n",
      "epoch  94 --- Loss --- 9.224875e-07\n",
      "epoch  95 --- Loss --- 9.2105716e-07\n",
      "epoch  96 --- Loss --- 9.196788e-07\n",
      "epoch  97 --- Loss --- 9.1835085e-07\n",
      "epoch  98 --- Loss --- 9.1707125e-07\n",
      "epoch  99 --- Loss --- 9.158383e-07\n",
      "epoch  100 --- Loss --- 9.1465034e-07\n",
      "epoch  101 --- Loss --- 9.135057e-07\n",
      "epoch  102 --- Loss --- 9.1240275e-07\n",
      "epoch  103 --- Loss --- 9.1134e-07\n",
      "epoch  104 --- Loss --- 9.103161e-07\n",
      "epoch  105 --- Loss --- 9.093295e-07\n",
      "epoch  106 --- Loss --- 9.083788e-07\n",
      "epoch  107 --- Loss --- 9.074627e-07\n",
      "epoch  108 --- Loss --- 9.065801e-07\n",
      "epoch  109 --- Loss --- 9.057296e-07\n",
      "epoch  110 --- Loss --- 9.049101e-07\n",
      "epoch  111 --- Loss --- 9.041205e-07\n",
      "epoch  112 --- Loss --- 9.033597e-07\n",
      "epoch  113 --- Loss --- 9.026266e-07\n",
      "epoch  114 --- Loss --- 9.019202e-07\n",
      "epoch  115 --- Loss --- 9.012396e-07\n",
      "epoch  116 --- Loss --- 9.0058387e-07\n",
      "epoch  117 --- Loss --- 8.9995194e-07\n",
      "epoch  118 --- Loss --- 8.9934315e-07\n",
      "epoch  119 --- Loss --- 8.9875647e-07\n",
      "epoch  120 --- Loss --- 8.981911e-07\n",
      "epoch  121 --- Loss --- 8.9764643e-07\n",
      "epoch  122 --- Loss --- 8.971216e-07\n",
      "epoch  123 --- Loss --- 8.966159e-07\n",
      "epoch  124 --- Loss --- 8.961287e-07\n",
      "epoch  125 --- Loss --- 8.9565924e-07\n",
      "epoch  126 --- Loss --- 8.9520694e-07\n",
      "epoch  127 --- Loss --- 8.94771e-07\n",
      "epoch  128 --- Loss --- 8.9435105e-07\n",
      "epoch  129 --- Loss --- 8.939464e-07\n",
      "epoch  130 --- Loss --- 8.9355643e-07\n",
      "epoch  131 --- Loss --- 8.931807e-07\n",
      "epoch  132 --- Loss --- 8.928187e-07\n",
      "epoch  133 --- Loss --- 8.924699e-07\n",
      "epoch  134 --- Loss --- 8.921338e-07\n",
      "epoch  135 --- Loss --- 8.9181003e-07\n",
      "epoch  136 --- Loss --- 8.91498e-07\n",
      "epoch  137 --- Loss --- 8.911974e-07\n",
      "epoch  138 --- Loss --- 8.9090764e-07\n",
      "epoch  139 --- Loss --- 8.9062854e-07\n",
      "epoch  140 --- Loss --- 8.903596e-07\n",
      "epoch  141 --- Loss --- 8.9010047e-07\n",
      "epoch  142 --- Loss --- 8.8985075e-07\n",
      "epoch  143 --- Loss --- 8.896102e-07\n",
      "epoch  144 --- Loss --- 8.893783e-07\n",
      "epoch  145 --- Loss --- 8.89155e-07\n",
      "epoch  146 --- Loss --- 8.889398e-07\n",
      "epoch  147 --- Loss --- 8.887324e-07\n",
      "epoch  148 --- Loss --- 8.8853255e-07\n",
      "epoch  149 --- Loss --- 8.883401e-07\n",
      "epoch  150 --- Loss --- 8.881546e-07\n",
      "epoch  151 --- Loss --- 8.879759e-07\n",
      "epoch  152 --- Loss --- 8.8780365e-07\n",
      "epoch  153 --- Loss --- 8.876377e-07\n",
      "epoch  154 --- Loss --- 8.874778e-07\n",
      "epoch  155 --- Loss --- 8.8732384e-07\n",
      "epoch  156 --- Loss --- 8.8717536e-07\n",
      "epoch  157 --- Loss --- 8.870324e-07\n",
      "epoch  158 --- Loss --- 8.8689455e-07\n",
      "epoch  159 --- Loss --- 8.867618e-07\n",
      "epoch  160 --- Loss --- 8.8663387e-07\n",
      "epoch  161 --- Loss --- 8.865106e-07\n",
      "epoch  162 --- Loss --- 8.863918e-07\n",
      "epoch  163 --- Loss --- 8.8627735e-07\n",
      "epoch  164 --- Loss --- 8.861671e-07\n",
      "epoch  165 --- Loss --- 8.860609e-07\n",
      "epoch  166 --- Loss --- 8.8595846e-07\n",
      "epoch  167 --- Loss --- 8.8585983e-07\n",
      "epoch  168 --- Loss --- 8.8576485e-07\n",
      "epoch  169 --- Loss --- 8.856732e-07\n",
      "epoch  170 --- Loss --- 8.85585e-07\n",
      "epoch  171 --- Loss --- 8.855e-07\n",
      "epoch  172 --- Loss --- 8.8541816e-07\n",
      "epoch  173 --- Loss --- 8.8533915e-07\n",
      "epoch  174 --- Loss --- 8.8526315e-07\n",
      "epoch  175 --- Loss --- 8.851899e-07\n",
      "epoch  176 --- Loss --- 8.851192e-07\n",
      "epoch  177 --- Loss --- 8.8505124e-07\n",
      "epoch  178 --- Loss --- 8.849857e-07\n",
      "epoch  179 --- Loss --- 8.8492254e-07\n",
      "epoch  180 --- Loss --- 8.848617e-07\n",
      "epoch  181 --- Loss --- 8.848031e-07\n",
      "epoch  182 --- Loss --- 8.847466e-07\n",
      "epoch  183 --- Loss --- 8.846922e-07\n",
      "epoch  184 --- Loss --- 8.846398e-07\n",
      "epoch  185 --- Loss --- 8.845892e-07\n",
      "epoch  186 --- Loss --- 8.845406e-07\n",
      "epoch  187 --- Loss --- 8.844937e-07\n",
      "epoch  188 --- Loss --- 8.8444847e-07\n",
      "epoch  189 --- Loss --- 8.84405e-07\n",
      "epoch  190 --- Loss --- 8.8436303e-07\n",
      "epoch  191 --- Loss --- 8.8432256e-07\n",
      "epoch  192 --- Loss --- 8.842836e-07\n",
      "epoch  193 --- Loss --- 8.8424605e-07\n",
      "epoch  194 --- Loss --- 8.8420995e-07\n",
      "epoch  195 --- Loss --- 8.841751e-07\n",
      "epoch  196 --- Loss --- 8.8414157e-07\n",
      "epoch  197 --- Loss --- 8.841092e-07\n",
      "epoch  198 --- Loss --- 8.840781e-07\n",
      "epoch  199 --- Loss --- 8.8404806e-07\n"
     ]
    }
   ],
   "source": [
    "reg_model.fit(positions, values, epochs=200)"
   ]
  },
  {
   "cell_type": "code",
   "execution_count": 17,
   "metadata": {},
   "outputs": [
    {
     "name": "stdout",
     "output_type": "stream",
     "text": [
      "AI Dipole Vector:  [0.03402436 0.09046142 1.7996904 ]\n",
      "AI Dipole Magnitude:  1.8022836452821425\n"
     ]
    }
   ],
   "source": [
    "print(\"AI Dipole Vector: \", reg_model.dipole()[-1])\n",
    "print(\"AI Dipole Magnitude: \", util.magnitude(reg_model.dipole()[-1]))"
   ]
  },
  {
   "cell_type": "code",
   "execution_count": 18,
   "metadata": {},
   "outputs": [
    {
     "name": "stdout",
     "output_type": "stream",
     "text": [
      "Spherical Harmonic Calculation:  [-0.008, -0.106, 1.846]\n",
      "Spherical Harmonic Magnitude:  1.8490581386208493\n"
     ]
    }
   ],
   "source": [
    "print(\"Spherical Harmonic Calculation: \", old_calc)\n",
    "print(\"Spherical Harmonic Magnitude: \", util.magnitude(old_calc))"
   ]
  },
  {
   "cell_type": "code",
   "execution_count": 19,
   "metadata": {},
   "outputs": [
    {
     "data": {
      "image/png": "[encoded data removed]",
      "text/plain": [
       "<Figure size 640x480 with 1 Axes>"
      ]
     },
     "metadata": {},
     "output_type": "display_data"
    }
   ],
   "source": [
    "import matplotlib.pyplot as plt\n",
    "\n",
    "\n",
    "y_axis = reg_model.loss_history\n",
    "x_axis = [*range(0, len(y_axis), 1)]\n",
    "\n",
    "plt.plot(x_axis, y_axis, 'r-')\n",
    "#plt.yscale(\"log\")\n",
    "#plt.xscale(\"log\")\n",
    "plt.title('Dipole Moment Fit')\n",
    "plt.xlabel(\"Epochs\")\n",
    "plt.ylabel(\"Mean Squared Error\")\n",
    "plt.show()"
   ]
  },
  {
   "cell_type": "code",
   "execution_count": 72,
   "metadata": {},
   "outputs": [
    {
     "name": "stdout",
     "output_type": "stream",
     "text": [
      "tf.Tensor([-2.9448408e-09 -1.6481989e-09  1.1394311e-09], shape=(3,), dtype=float32)\n",
      "tf.Tensor([-2.4323492e-09 -1.5088069e-09 -2.3659348e-09], shape=(3,), dtype=float32)\n",
      "Total:\n",
      "tf.Tensor([-5.3771902e-09 -3.1570058e-09 -1.2265037e-09], shape=(3,), dtype=float32)\n"
     ]
    }
   ],
   "source": [
    "# Example of how to sum parallel layer outputs.\n",
    "# Must use gradient tape for tracking gradients\n",
    "\n",
    "import tensorflow as tf\n",
    "import keras   \n",
    "from pinn_magnetic import DipoleLayer\n",
    "\n",
    "total_layers = 3\n",
    "dlayers = []\n",
    "\n",
    "#add some layers\n",
    "for i in range(total_layers):\n",
    "    dlayers.append(DipoleLayer())\n",
    "\n",
    "concat_layers = []\n",
    "#gather predictions\n",
    "for i in range(total_layers):\n",
    "    x = dlayers[i]([1, 1, 0])\n",
    "    print(x)\n",
    "    concat_layers.append(tf.reshape(x, [1,3]))\n",
    " \n",
    "total_con = keras.layers.concatenate(concat_layers, axis=0)\n",
    "my_added = tf.reduce_sum(total_con, axis=0, keepdims=True)\n",
    "my_added = tf.reshape(my_added, [3,])\n",
    "print(\"Total:\")\n",
    "print(my_added)\n",
    "\n",
    "\n",
    "\n",
    "\n",
    "\n"
   ]
  }
 ],
 "metadata": {
  "kernelspec": {
   "display_name": "venv-tf",
   "language": "python",
   "name": "python3"
  },
  "language_info": {
   "codemirror_mode": {
    "name": "ipython",
    "version": 3
   },
   "file_extension": ".py",
   "mimetype": "text/x-python",
   "name": "python",
   "nbconvert_exporter": "python",
   "pygments_lexer": "ipython3",
   "version": "3.11.7"
  }
 },
 "nbformat": 4,
 "nbformat_minor": 2
}
