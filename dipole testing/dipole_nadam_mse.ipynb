{
 "cells": [
  {
   "cell_type": "code",
   "execution_count": 1,
   "metadata": {},
   "outputs": [
    {
     "name": "stdout",
     "output_type": "stream",
     "text": [
      "WARNING:tensorflow:From c:\\Users\\wrath\\source\\tensorflow\\venv-tf\\Lib\\site-packages\\keras\\src\\losses.py:2976: The name tf.losses.sparse_softmax_cross_entropy is deprecated. Please use tf.compat.v1.losses.sparse_softmax_cross_entropy instead.\n",
      "\n",
      "TensorFlow version: 2.15.0\n"
     ]
    }
   ],
   "source": [
    "import time\n",
    "import sys\n",
    "sys.path.append('../')\n",
    "from pinn_magnetic_experimental import MultiDipoleModel\n",
    "import smtf_utility as util"
   ]
  },
  {
   "cell_type": "code",
   "execution_count": 2,
   "metadata": {},
   "outputs": [],
   "source": [
    "def percentage(input, predicted):\n",
    "    adiff = abs(input-predicted)\n",
    "    delta = 0\n",
    "    if input > adiff:\n",
    "        delta = input - adiff\n",
    "    else:\n",
    "        delta = adiff + input\n",
    "    \n",
    "    return ((delta/input) * 100)"
   ]
  },
  {
   "cell_type": "code",
   "execution_count": 3,
   "metadata": {},
   "outputs": [],
   "source": [
    "sim = util.bf_simulator(distances=[1, 1.33, 1.66, 1.99], delta=30, scale=1e9)\n",
    "\n",
    "xpole = 0.1\n",
    "ypole = 0.2\n",
    "zpole = -0.6\n",
    "\n",
    "sim.add_dipole(0.0, 0, 0, xpole, 0, 0)\n",
    "sim.add_dipole(0.0, 0, 0, 0, ypole, 0)\n",
    "sim.add_dipole(0.0, 0, 0, 0, 0, zpole)"
   ]
  },
  {
   "cell_type": "code",
   "execution_count": 4,
   "metadata": {},
   "outputs": [],
   "source": [
    "positions, values = sim.get_data()\n",
    "positions, values = util.shuffle_data(positions, values)"
   ]
  },
  {
   "cell_type": "code",
   "execution_count": 5,
   "metadata": {},
   "outputs": [
    {
     "name": "stdout",
     "output_type": "stream",
     "text": [
      "WARNING:tensorflow:From c:\\Users\\wrath\\source\\tensorflow\\venv-tf\\Lib\\site-packages\\keras\\src\\backend.py:873: The name tf.get_default_graph is deprecated. Please use tf.compat.v1.get_default_graph instead.\n",
      "\n"
     ]
    }
   ],
   "source": [
    "model = MultiDipoleModel(poles=1, lrate=0.001, optimizer='nadam', loss='mse', scale=1e9, early_stop=False, target_stop=.000000002)\n",
    "test_epochs = 500"
   ]
  },
  {
   "cell_type": "code",
   "execution_count": 6,
   "metadata": {},
   "outputs": [
    {
     "name": "stdout",
     "output_type": "stream",
     "text": [
      "epoch  0 --- Loss --- 436.19397\n",
      "epoch  1 --- Loss --- 372.35638\n",
      "epoch  2 --- Loss --- 321.95505\n",
      "epoch  3 --- Loss --- 279.40656\n",
      "epoch  4 --- Loss --- 243.11658\n",
      "epoch  5 --- Loss --- 211.98167\n",
      "epoch  6 --- Loss --- 185.12045\n",
      "epoch  7 --- Loss --- 161.80592\n",
      "epoch  8 --- Loss --- 141.44179\n",
      "epoch  9 --- Loss --- 123.5485\n",
      "epoch  10 --- Loss --- 107.74855\n",
      "epoch  11 --- Loss --- 93.7495\n",
      "epoch  12 --- Loss --- 81.32514\n",
      "epoch  13 --- Loss --- 70.29825\n",
      "epoch  14 --- Loss --- 60.52554\n",
      "epoch  15 --- Loss --- 51.886543\n",
      "epoch  16 --- Loss --- 44.27584\n",
      "epoch  17 --- Loss --- 37.59825\n",
      "epoch  18 --- Loss --- 31.765873\n",
      "epoch  19 --- Loss --- 26.696629\n",
      "epoch  20 --- Loss --- 22.313557\n",
      "epoch  21 --- Loss --- 18.544384\n",
      "epoch  22 --- Loss --- 15.321576\n",
      "epoch  23 --- Loss --- 12.582258\n",
      "epoch  24 --- Loss --- 10.268171\n",
      "epoch  25 --- Loss --- 8.325738\n",
      "epoch  26 --- Loss --- 6.7059927\n",
      "epoch  27 --- Loss --- 5.3645086\n",
      "epoch  28 --- Loss --- 4.2612777\n",
      "epoch  29 --- Loss --- 3.3605084\n",
      "epoch  30 --- Loss --- 2.6305165\n",
      "epoch  31 --- Loss --- 2.0434313\n",
      "epoch  32 --- Loss --- 1.5750152\n",
      "epoch  33 --- Loss --- 1.2042773\n",
      "epoch  34 --- Loss --- 0.91325647\n",
      "epoch  35 --- Loss --- 0.6867592\n",
      "epoch  36 --- Loss --- 0.5120053\n",
      "epoch  37 --- Loss --- 0.37835288\n",
      "epoch  38 --- Loss --- 0.27707535\n",
      "epoch  39 --- Loss --- 0.20103417\n",
      "epoch  40 --- Loss --- 0.14449055\n",
      "epoch  41 --- Loss --- 0.10284465\n",
      "epoch  42 --- Loss --- 0.0724809\n",
      "epoch  43 --- Loss --- 0.05056448\n",
      "epoch  44 --- Loss --- 0.034907922\n",
      "epoch  45 --- Loss --- 0.023845855\n",
      "epoch  46 --- Loss --- 0.01611223\n",
      "epoch  47 --- Loss --- 0.010765596\n",
      "epoch  48 --- Loss --- 0.007111346\n",
      "epoch  49 --- Loss --- 0.0046424414\n",
      "epoch  50 --- Loss --- 0.002994753\n",
      "epoch  51 --- Loss --- 0.0019081691\n",
      "epoch  52 --- Loss --- 0.0012006391\n",
      "epoch  53 --- Loss --- 0.00074562756\n",
      "epoch  54 --- Loss --- 0.00045678183\n",
      "epoch  55 --- Loss --- 0.0002759305\n",
      "epoch  56 --- Loss --- 0.00016456985\n",
      "epoch  57 --- Loss --- 9.675755e-05\n",
      "epoch  58 --- Loss --- 5.596132e-05\n",
      "epoch  59 --- Loss --- 3.1924654e-05\n",
      "epoch  60 --- Loss --- 1.7968003e-05\n",
      "epoch  61 --- Loss --- 9.9579365e-06\n",
      "epoch  62 --- Loss --- 5.4071575e-06\n",
      "epoch  63 --- Loss --- 2.9044068e-06\n",
      "epoch  64 --- Loss --- 1.5305384e-06\n",
      "epoch  65 --- Loss --- 7.904352e-07\n",
      "epoch  66 --- Loss --- 3.9921522e-07\n",
      "epoch  67 --- Loss --- 2.0282255e-07\n",
      "epoch  68 --- Loss --- 9.8488215e-08\n",
      "epoch  69 --- Loss --- 4.4072852e-08\n",
      "epoch  70 --- Loss --- 2.0557382e-08\n",
      "epoch  71 --- Loss --- 9.689566e-09\n",
      "epoch  72 --- Loss --- 6.876194e-09\n",
      "epoch  73 --- Loss --- 6.1760534e-09\n",
      "epoch  74 --- Loss --- 5.9279195e-09\n",
      "epoch  75 --- Loss --- 5.3296105e-09\n",
      "epoch  76 --- Loss --- 4.988492e-09\n",
      "epoch  77 --- Loss --- 4.7074846e-09\n",
      "epoch  78 --- Loss --- 4.573991e-09\n",
      "epoch  79 --- Loss --- 4.423571e-09\n",
      "epoch  80 --- Loss --- 4.1328714e-09\n",
      "epoch  81 --- Loss --- 3.819055e-09\n",
      "epoch  82 --- Loss --- 3.5349892e-09\n",
      "epoch  83 --- Loss --- 3.2439256e-09\n",
      "epoch  84 --- Loss --- 3.0712226e-09\n",
      "epoch  85 --- Loss --- 3.065022e-09\n",
      "epoch  86 --- Loss --- 2.9602392e-09\n",
      "epoch  87 --- Loss --- 2.7307054e-09\n",
      "epoch  88 --- Loss --- 2.5829818e-09\n",
      "epoch  89 --- Loss --- 2.4166296e-09\n",
      "epoch  90 --- Loss --- 2.3412539e-09\n",
      "epoch  91 --- Loss --- 2.1794775e-09\n",
      "epoch  92 --- Loss --- 2.115358e-09\n",
      "epoch  93 --- Loss --- 1.9497541e-09\n"
     ]
    }
   ],
   "source": [
    "start = time.time()\n",
    "model.fit(positions, values, epochs=test_epochs)\n",
    "end = time.time()"
   ]
  },
  {
   "cell_type": "code",
   "execution_count": 7,
   "metadata": {},
   "outputs": [
    {
     "name": "stdout",
     "output_type": "stream",
     "text": [
      "Total training time: 1.1435436407725017 minutes\n"
     ]
    }
   ],
   "source": [
    "ellapsed_minutes = ((end - start) / 60)\n",
    "print(\"Total training time: \" + str(ellapsed_minutes) + \" minutes\")"
   ]
  },
  {
   "cell_type": "code",
   "execution_count": 8,
   "metadata": {},
   "outputs": [
    {
     "data": {
      "image/png": "[encoded data removed]",
      "text/plain": [
       "<Figure size 640x480 with 1 Axes>"
      ]
     },
     "metadata": {},
     "output_type": "display_data"
    }
   ],
   "source": [
    "import matplotlib.pyplot as plt\n",
    "\n",
    "y_axis = model.loss_history\n",
    "x_axis = [*range(0, len(y_axis), 1)]\n",
    "\n",
    "plt.plot(x_axis, y_axis, 'r-')\n",
    "plt.yscale(\"log\")\n",
    "#plt.xscale(\"log\")\n",
    "plt.title('Magnetic Moment Fit')\n",
    "plt.xlabel(\"Epochs\")\n",
    "plt.ylabel(\"Loss\")\n",
    "plt.show()"
   ]
  },
  {
   "cell_type": "code",
   "execution_count": 9,
   "metadata": {},
   "outputs": [
    {
     "name": "stdout",
     "output_type": "stream",
     "text": [
      "Predicted\n",
      "[[ 0.10000001  0.19999996 -0.5999986 ]]\n",
      "Input\n",
      "[[0.1, 0.2, -0.6]]\n"
     ]
    }
   ],
   "source": [
    "print(\"Predicted\")\n",
    "print(model.dipole())\n",
    "print(\"Input\")\n",
    "print([[xpole, ypole, zpole]])"
   ]
  },
  {
   "cell_type": "code",
   "execution_count": 10,
   "metadata": {},
   "outputs": [
    {
     "name": "stdout",
     "output_type": "stream",
     "text": [
      "Percentage Accuracy X-axis 99.9999910593033\n",
      "Percentage Accuracy Y-axis 99.99997913837433\n",
      "Percentage Accuracy Z-axis 99.99976555506389\n",
      "********************************\n",
      "Average Accuracy:  99.9999119175805\n"
     ]
    }
   ],
   "source": [
    "est = model.dipole()\n",
    "\n",
    "#x_acc = ((xpole - abs(xpole - est[-1][0]))/xpole) * 100.0\n",
    "#y_acc = ((ypole - abs(ypole - est[-1][1]))/ypole) * 100.0\n",
    "#z_acc = ((zpole - abs(zpole - est[-1][2]))/zpole) * 100.0\n",
    "x_acc = percentage( xpole, est[-1][0])\n",
    "y_acc = percentage(ypole, est[-1][1])\n",
    "z_acc = percentage(zpole, est[-1][2])\n",
    "print(\"Percentage Accuracy X-axis\", x_acc)\n",
    "print(\"Percentage Accuracy Y-axis\", y_acc)\n",
    "print(\"Percentage Accuracy Z-axis\", z_acc)\n",
    "\n",
    "print(\"********************************\")\n",
    "overall_acc = (x_acc + y_acc + z_acc)/3\n",
    "print(\"Average Accuracy: \", overall_acc)\n",
    "\n"
   ]
  }
 ],
 "metadata": {
  "kernelspec": {
   "display_name": "venv-tf",
   "language": "python",
   "name": "python3"
  },
  "language_info": {
   "codemirror_mode": {
    "name": "ipython",
    "version": 3
   },
   "file_extension": ".py",
   "mimetype": "text/x-python",
   "name": "python",
   "nbconvert_exporter": "python",
   "pygments_lexer": "ipython3",
   "version": "3.11.9"
  }
 },
 "nbformat": 4,
 "nbformat_minor": 2
}
