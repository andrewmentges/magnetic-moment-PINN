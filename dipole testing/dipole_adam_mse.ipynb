{
 "cells": [
  {
   "cell_type": "code",
   "execution_count": 91,
   "metadata": {},
   "outputs": [],
   "source": [
    "import time\n",
    "import sys\n",
    "sys.path.append('../')\n",
    "from pinn_magnetic_experimental import MultiDipoleModel\n",
    "import smtf_utility as util"
   ]
  },
  {
   "cell_type": "code",
   "execution_count": 92,
   "metadata": {},
   "outputs": [],
   "source": [
    "def percentage(input, predicted):\n",
    "    adiff = abs(input-predicted)\n",
    "    delta = 0\n",
    "    if input > adiff:\n",
    "        delta = input - adiff\n",
    "    else:\n",
    "        delta = adiff + input\n",
    "    \n",
    "    return ((delta/input) * 100)"
   ]
  },
  {
   "cell_type": "code",
   "execution_count": 93,
   "metadata": {},
   "outputs": [],
   "source": [
    "sim = util.bf_simulator(distances=[1, 1.33, 1.66, 1.99], delta=30, scale=1e9)\n",
    "\n",
    "xpole = 0.1\n",
    "ypole = 0.2\n",
    "zpole = -0.6\n",
    "\n",
    "sim.add_dipole(0.0, 0, 0, xpole, 0, 0)\n",
    "sim.add_dipole(0.0, 0, 0, 0, ypole, 0)\n",
    "sim.add_dipole(0.0, 0, 0, 0, 0, zpole)"
   ]
  },
  {
   "cell_type": "code",
   "execution_count": 94,
   "metadata": {},
   "outputs": [],
   "source": [
    "positions, values = sim.get_data()\n",
    "positions, values = util.shuffle_data(positions, values)"
   ]
  },
  {
   "cell_type": "code",
   "execution_count": 95,
   "metadata": {},
   "outputs": [],
   "source": [
    "model = MultiDipoleModel(poles=1, lrate=0.001, optimizer='adam', loss='mse', scale=1e9, early_stop=False, target_stop=.000000002)\n",
    "test_epochs = 500"
   ]
  },
  {
   "cell_type": "code",
   "execution_count": 96,
   "metadata": {},
   "outputs": [
    {
     "name": "stdout",
     "output_type": "stream",
     "text": [
      "epoch  0 --- Loss --- 510.42093\n",
      "epoch  1 --- Loss --- 446.76172\n",
      "epoch  2 --- Loss --- 392.94342\n",
      "epoch  3 --- Loss --- 347.15433\n",
      "epoch  4 --- Loss --- 307.87952\n",
      "epoch  5 --- Loss --- 273.84796\n",
      "epoch  6 --- Loss --- 244.03964\n",
      "epoch  7 --- Loss --- 217.66324\n",
      "epoch  8 --- Loss --- 194.11893\n",
      "epoch  9 --- Loss --- 172.95914\n",
      "epoch  10 --- Loss --- 153.85266\n",
      "epoch  11 --- Loss --- 136.55399\n",
      "epoch  12 --- Loss --- 120.87799\n",
      "epoch  13 --- Loss --- 106.68022\n",
      "epoch  14 --- Loss --- 93.84213\n",
      "epoch  15 --- Loss --- 82.26135\n",
      "epoch  16 --- Loss --- 71.84532\n",
      "epoch  17 --- Loss --- 62.50786\n",
      "epoch  18 --- Loss --- 54.167355\n",
      "epoch  19 --- Loss --- 46.7457\n",
      "epoch  20 --- Loss --- 40.16801\n",
      "epoch  21 --- Loss --- 34.362766\n",
      "epoch  22 --- Loss --- 29.261559\n",
      "epoch  23 --- Loss --- 24.799326\n",
      "epoch  24 --- Loss --- 20.914478\n",
      "epoch  25 --- Loss --- 17.548866\n",
      "epoch  26 --- Loss --- 14.647865\n",
      "epoch  27 --- Loss --- 12.160525\n",
      "epoch  28 --- Loss --- 10.0394535\n",
      "epoch  29 --- Loss --- 8.24092\n",
      "epoch  30 --- Loss --- 6.724779\n",
      "epoch  31 --- Loss --- 5.4543214\n",
      "epoch  32 --- Loss --- 4.3963237\n",
      "epoch  33 --- Loss --- 3.5208633\n",
      "epoch  34 --- Loss --- 2.801212\n",
      "epoch  35 --- Loss --- 2.213611\n",
      "epoch  36 --- Loss --- 1.7371496\n",
      "epoch  37 --- Loss --- 1.3535753\n",
      "epoch  38 --- Loss --- 1.0470331\n",
      "epoch  39 --- Loss --- 0.8038753\n",
      "epoch  40 --- Loss --- 0.61246896\n",
      "epoch  41 --- Loss --- 0.4629914\n",
      "epoch  42 --- Loss --- 0.3471908\n",
      "epoch  43 --- Loss --- 0.2582108\n",
      "epoch  44 --- Loss --- 0.19042076\n",
      "epoch  45 --- Loss --- 0.13921973\n",
      "epoch  46 --- Loss --- 0.10088988\n",
      "epoch  47 --- Loss --- 0.07245224\n",
      "epoch  48 --- Loss --- 0.05154983\n",
      "epoch  49 --- Loss --- 0.036329035\n",
      "epoch  50 --- Loss --- 0.025355166\n",
      "epoch  51 --- Loss --- 0.017520148\n",
      "epoch  52 --- Loss --- 0.011983603\n",
      "epoch  53 --- Loss --- 0.008111933\n",
      "epoch  54 --- Loss --- 0.005432806\n",
      "epoch  55 --- Loss --- 0.0035982004\n",
      "epoch  56 --- Loss --- 0.0023564526\n",
      "epoch  57 --- Loss --- 0.0015253754\n",
      "epoch  58 --- Loss --- 0.0009758224\n",
      "epoch  59 --- Loss --- 0.0006167135\n",
      "epoch  60 --- Loss --- 0.00038484889\n",
      "epoch  61 --- Loss --- 0.00023725838\n",
      "epoch  62 --- Loss --- 0.00014434542\n",
      "epoch  63 --- Loss --- 8.663893e-05\n",
      "epoch  64 --- Loss --- 5.1372474e-05\n",
      "epoch  65 --- Loss --- 3.0028796e-05\n",
      "epoch  66 --- Loss --- 1.7312275e-05\n",
      "epoch  67 --- Loss --- 9.775439e-06\n",
      "epoch  68 --- Loss --- 5.4442876e-06\n",
      "epoch  69 --- Loss --- 2.9837045e-06\n",
      "epoch  70 --- Loss --- 1.6204384e-06\n",
      "epoch  71 --- Loss --- 8.638287e-07\n",
      "epoch  72 --- Loss --- 4.5416462e-07\n",
      "epoch  73 --- Loss --- 2.2968418e-07\n",
      "epoch  74 --- Loss --- 1.2056275e-07\n",
      "epoch  75 --- Loss --- 5.9964606e-08\n",
      "epoch  76 --- Loss --- 2.4103695e-08\n",
      "epoch  77 --- Loss --- 1.2576525e-08\n",
      "epoch  78 --- Loss --- 9.595885e-09\n",
      "epoch  79 --- Loss --- 8.764411e-09\n",
      "epoch  80 --- Loss --- 8.1903035e-09\n",
      "epoch  81 --- Loss --- 7.4435658e-09\n",
      "epoch  82 --- Loss --- 7.1268915e-09\n",
      "epoch  83 --- Loss --- 6.729165e-09\n",
      "epoch  84 --- Loss --- 6.1713723e-09\n",
      "epoch  85 --- Loss --- 6.154907e-09\n",
      "epoch  86 --- Loss --- 5.9367546e-09\n",
      "epoch  87 --- Loss --- 5.4187153e-09\n",
      "epoch  88 --- Loss --- 5.294481e-09\n",
      "epoch  89 --- Loss --- 5.0201416e-09\n",
      "epoch  90 --- Loss --- 4.7506092e-09\n",
      "epoch  91 --- Loss --- 4.6636326e-09\n",
      "epoch  92 --- Loss --- 4.344317e-09\n",
      "epoch  93 --- Loss --- 3.898641e-09\n",
      "epoch  94 --- Loss --- 3.898342e-09\n",
      "epoch  95 --- Loss --- 3.7933576e-09\n",
      "epoch  96 --- Loss --- 3.5529544e-09\n",
      "epoch  97 --- Loss --- 3.3166563e-09\n",
      "epoch  98 --- Loss --- 3.2271215e-09\n",
      "epoch  99 --- Loss --- 3.062604e-09\n",
      "epoch  100 --- Loss --- 2.994207e-09\n",
      "epoch  101 --- Loss --- 2.7599507e-09\n",
      "epoch  102 --- Loss --- 2.6775846e-09\n",
      "epoch  103 --- Loss --- 2.4077236e-09\n",
      "epoch  104 --- Loss --- 2.4077236e-09\n",
      "epoch  105 --- Loss --- 2.3247764e-09\n",
      "epoch  106 --- Loss --- 2.1782531e-09\n",
      "epoch  107 --- Loss --- 2.09355e-09\n",
      "epoch  108 --- Loss --- 1.9485298e-09\n"
     ]
    }
   ],
   "source": [
    "start = time.time()\n",
    "model.fit(positions, values, epochs=test_epochs)\n",
    "end = time.time()"
   ]
  },
  {
   "cell_type": "code",
   "execution_count": 97,
   "metadata": {},
   "outputs": [
    {
     "name": "stdout",
     "output_type": "stream",
     "text": [
      "Total training time: 1.6869962493578592 minutes\n"
     ]
    }
   ],
   "source": [
    "ellapsed_minutes = ((end - start) / 60)\n",
    "print(\"Total training time: \" + str(ellapsed_minutes) + \" minutes\")"
   ]
  },
  {
   "cell_type": "code",
   "execution_count": 98,
   "metadata": {},
   "outputs": [
    {
     "data": {
      "image/png": "[encoded data removed]",
      "text/plain": [
       "<Figure size 640x480 with 1 Axes>"
      ]
     },
     "metadata": {},
     "output_type": "display_data"
    }
   ],
   "source": [
    "import matplotlib.pyplot as plt\n",
    "\n",
    "y_axis = model.loss_history\n",
    "x_axis = [*range(0, len(y_axis), 1)]\n",
    "\n",
    "plt.plot(x_axis, y_axis, 'r-')\n",
    "plt.yscale(\"log\")\n",
    "#plt.xscale(\"log\")\n",
    "plt.title('Magnetic Moment Fit')\n",
    "plt.xlabel(\"Epochs\")\n",
    "plt.ylabel(\"Loss\")\n",
    "plt.show()"
   ]
  },
  {
   "cell_type": "code",
   "execution_count": 99,
   "metadata": {},
   "outputs": [
    {
     "name": "stdout",
     "output_type": "stream",
     "text": [
      "Predicted\n",
      "[[ 0.1         0.19999996 -0.5999986 ]]\n",
      "Input\n",
      "[[0.1, 0.2, -0.6]]\n"
     ]
    }
   ],
   "source": [
    "print(\"Predicted\")\n",
    "print(model.dipole())\n",
    "print(\"Input\")\n",
    "print([[xpole, ypole, zpole]])"
   ]
  },
  {
   "cell_type": "code",
   "execution_count": 100,
   "metadata": {},
   "outputs": [
    {
     "name": "stdout",
     "output_type": "stream",
     "text": [
      "Percentage Accuracy X-axis 99.9999985098839\n",
      "Percentage Accuracy Y-axis 99.99997913837433\n",
      "Percentage Accuracy Z-axis 99.99976555506389\n",
      "********************************\n",
      "Average Accuracy:  99.99991440110738\n"
     ]
    }
   ],
   "source": [
    "est = model.dipole()\n",
    "\n",
    "#x_acc = ((xpole - abs(xpole - est[-1][0]))/xpole) * 100.0\n",
    "#y_acc = ((ypole - abs(ypole - est[-1][1]))/ypole) * 100.0\n",
    "#z_acc = ((zpole - abs(zpole - est[-1][2]))/zpole) * 100.0\n",
    "x_acc = percentage( xpole, est[-1][0])\n",
    "y_acc = percentage(ypole, est[-1][1])\n",
    "z_acc = percentage(zpole, est[-1][2])\n",
    "print(\"Percentage Accuracy X-axis\", x_acc)\n",
    "print(\"Percentage Accuracy Y-axis\", y_acc)\n",
    "print(\"Percentage Accuracy Z-axis\", z_acc)\n",
    "\n",
    "print(\"********************************\")\n",
    "overall_acc = (x_acc + y_acc + z_acc)/3\n",
    "print(\"Average Accuracy: \", overall_acc)\n",
    "\n"
   ]
  }
 ],
 "metadata": {
  "kernelspec": {
   "display_name": "venv-tf",
   "language": "python",
   "name": "python3"
  },
  "language_info": {
   "codemirror_mode": {
    "name": "ipython",
    "version": 3
   },
   "file_extension": ".py",
   "mimetype": "text/x-python",
   "name": "python",
   "nbconvert_exporter": "python",
   "pygments_lexer": "ipython3",
   "version": "3.11.9"
  }
 },
 "nbformat": 4,
 "nbformat_minor": 2
}
